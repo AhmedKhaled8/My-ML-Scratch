{
 "cells": [
  {
   "cell_type": "markdown",
   "metadata": {},
   "source": [
    "# Suopport Vector Machines\n",
    "\n",
    "Support Vector Machines (SVM) ia a supervised learning model with associated learning algorithms that analyze data for classification and regression analysis. In this notebook, we discuss the mathametical basis behind it and try to implement a simple version of it from scratch."
   ]
  },
  {
   "cell_type": "markdown",
   "metadata": {},
   "source": [
    "### What does the SVM do ?\n",
    "\n",
    "For a classification problem, the SVM tries to find the decision boundary that best splits the samples. Let's consider the following example,\n",
    "\n",
    "![](assets/images/which-db-is-better.jpg)\n",
    "\n",
    "Both lines separate the samples correctly. But which separates ***the best*** ? Obviously, it the green line. Why ? The green line separates the samples correctly with maximum **margin** possible from the close samples unlike the brown line where the margins are small.\n",
    "\n",
    "![](assets/images/max-margin.jpg)\n",
    "\n",
    "![](assets/images/small-margin.jpg)"
   ]
  },
  {
   "cell_type": "markdown",
   "metadata": {},
   "source": [
    "What SVM does is to find the decision boundary that correctly classify the samples and at the same time maximizes the margin with the close samples."
   ]
  },
  {
   "cell_type": "markdown",
   "metadata": {},
   "source": [
    "### Notations for SVM\n",
    "\n",
    "For convenient mathematical modeling for the SVM, we use the following notations:\n",
    "\n",
    "* $y_i$, the target of the samples can be either -1 for negative samples or 1 for positive samples.\n",
    "* $x_+$, a positive sample\n",
    "* $x_-$, a negative sample"
   ]
  },
  {
   "cell_type": "markdown",
   "metadata": {},
   "source": [
    "### How does the SVM work?\n",
    "\n",
    "![](assets/images/svm-db.jpg)\n",
    "\n",
    "Let's say that that we know the decision boundary that best sepearates the samples. If the example lies on the right side of the boundary, we classify it as (+), and vice-versa. We know that the weights vector of the decision boundary is orthogonal (perpendicular) on the decision boundary itself [why?](https://qr.ae/pv2EZT). Let's say we have 2 unknown samples, $\\vec{x_1}$ and $\\vec{x_2}$,\n",
    "\n",
    "![](assets/images/decision-function.jpg)\n",
    "\n",
    "The class of the unkown sample can be determined based on its location with respect to the decision boundary. On the right of it, we classify it as positive and vice-versa. We can formulate this as follows,\n",
    "\n",
    "$$\n",
    "\\hat{y_i} = \n",
    "     \\begin{cases}\n",
    "       1 &\\quad \\vec{w} \\cdot \\vec{x_i} \\geq c\\\\\n",
    "       0 &\\quad\\vec{w} \\cdot \\vec{x_i} < c\\\\\n",
    "     \\end{cases}\n",
    "$$\n",
    "\n",
    "which can be written as,\n",
    "\n",
    "$$\\boxed{\n",
    "\\hat{y_i} = \n",
    "     \\begin{cases}\n",
    "       1 &\\quad \\vec{w} \\cdot \\vec{x_i} + b \\geq 0\\\\\n",
    "       0 &\\quad\\vec{w} \\cdot \\vec{x_i} + b< 0\\\\\n",
    "     \\end{cases}\n",
    "} \\tag{1}\n",
    "$$\n",
    "where $b = -c$\n",
    "\n"
   ]
  },
  {
   "cell_type": "markdown",
   "metadata": {},
   "source": [
    "### How do we get $\\vec{w}$ and $b$ ?\n",
    "\n",
    "To find the decision boundary $\\vec{w} \\cdot \\vec{x_i} + b = 0$ which maximizes the margin between samples, we define 2 hyperplanes (lines); $\\vec{w} \\cdot \\vec{x_i} + b = 1$ and $\\vec{w} \\cdot \\vec{x_i} + b = -1$ like shown in the figures above. The distance between the 2 hyperplanes is the width of the SVM decision boundary which we want to maximize. Where for each example, the following should be satisified:\n",
    "\n",
    "* If $y_i = 1$, then $\\vec{w} \\cdot \\vec{x_i} + b \\geq 1$\n",
    "* If $y_i = -1$ then $\\vec{w} \\cdot \\vec{x_i} + b \\leq -1$ \n",
    "\n",
    "We can multiply both equations by $y_i$, we now get:\n",
    "\n",
    "* $y_i \\left(\\vec{w} \\cdot \\vec{x_i} + b \\right) \\geq 1$, For $y_i = 1$\n",
    "* $y_i \\left(\\vec{w} \\cdot \\vec{x_i} + b \\right) \\geq 1$, For $y_i = -1$\n",
    "\n",
    "Which are the same equation which constraints the training of the SVM to find the best decision boundary.\n",
    "\n",
    "$$\n",
    "\\boxed{y_i \\left(\\vec{w} \\cdot \\vec{x_i} + b \\right) - 1 \\geq 0} \\tag{2}\n",
    "$$\n",
    "\n",
    "\n",
    "To get the width of the boundary, we define the following,\n",
    "\n",
    "* a support vector is a sample that lies on either $\\vec{w} \\cdot \\vec{x_i} + b = 1$ or $\\vec{w} \\cdot \\vec{x_i} + b = -1$\n",
    "* $\\vec{x}_{+SV}$ is a point that lies on the $\\vec{w} \\cdot \\vec{x_i} + b = 1$.\n",
    "* $\\vec{x}_{-SV}$ is a point that lies on the $\\vec{w} \\cdot \\vec{x_i} + b = -1$\n",
    "\n",
    "![](assets/images/width.jpg)\n",
    "\n",
    "To calculate the width, we project the difference vector $\\vec{x}_{+SV} - \\vec{x}_{-SV}$ on the unit vector $\\frac{\\vec{w}}{||\\vec{w}||}$.\n",
    "\n",
    "$$\n",
    "\\text{WIDTH} = \\vec{x}_{+SV} - \\vec{x}_{-SV} \\cdot \\frac{\\vec{w}}{||\\vec{w}||} \\tag{3}\n",
    "$$\n",
    "\n",
    "From\n",
    "$$\n",
    "\\vec{w} \\cdot \\vec{x_{+SV}} + b = 1 \\Longrightarrow \\boxed{\\vec{x_{+SV}} = \\frac{1 - b}{\\vec{w}}}\n",
    "$$\n",
    "\n",
    "and\n",
    "\n",
    "$$\n",
    "\\vec{w} \\cdot \\vec{x_{-SV}} + b = -1 \\Longrightarrow \\boxed{\\vec{x_{-SV}} = \\frac{-1 - b}{\\vec{w}}}\n",
    "$$\n",
    "\n",
    "we get\n",
    "\n",
    "$$\n",
    "\\text{WIDTH} = {\\left[\\left( \\frac{1 - b}{\\vec{w}} \\right) - \\left( \\frac{-1 - b}{\\vec{w}} \\right)\\right]} \\cdot \\frac{\\vec{w}}{||\\vec{w}||} \n",
    "$$\n",
    "\n",
    "which resolves to,\n",
    "\n",
    "$$\n",
    "\\boxed{\\text{WIDTH} = \\frac{2}{||\\vec{w}||}} \\tag{4}\n",
    "$$\n",
    "\n",
    "Our target is to maximize the width,\n",
    "\n",
    "$$\n",
    "\\text{MAX WIDTH} \\equiv \\text{MAX} \\frac{2}{||\\vec{w}||} \\equiv \\text{MIN} {||\\vec{w}||} \\equiv \\boxed{\\text{MIN} \\quad \\frac{1}{2} ||\\vec{w}||^2} \\tag{5}\n",
    "$$\n",
    "\n",
    "we use the latter form of optimization problem for \"mathematical convenience\"..."
   ]
  },
  {
   "cell_type": "markdown",
   "metadata": {},
   "source": [
    "### Lagrange Dual Optimization"
   ]
  },
  {
   "cell_type": "markdown",
   "metadata": {},
   "source": [
    "For MIN optimization problems with constraints, a popular approach is to use the lagrange multipliers theorem. To check the lagrange multipliers, check [this](https://machinelearningmastery.com/a-gentle-introduction-to-method-of-lagrange-multipliers/) and [this](https://machinelearningmastery.com/lagrange-multiplier-approach-with-inequality-constraints/).\n",
    "\n",
    "The function to optimize is $\\text{MIN} \\quad \\frac{1}{2} ||\\vec{w}||^2$ with $\\quad y_i \\left(\\vec{w} \\cdot \\vec{x_i} + b \\right) - 1 \\geq 0$ as our constraint. With lagrange multipliers we can define the lagrance optimization function as\n",
    "\n",
    "$$\n",
    "L(\\vec{w}, b) = \\frac{1}{2} ||\\vec{w}||^2 - \\sum_i \\alpha_i \\left[ y_i \\left(\\vec{w} \\cdot \\vec{x_i} + b \\right) - 1 \\right]\n",
    "$$\n",
    "\n",
    "We can now get the extremas $\\vec{w}$ and $b$ by minimizing the above function,\n",
    "\n",
    "$$\n",
    "\\frac{\\partial L}{\\partial \\vec{w}} = \\vec{w} - \\sum_i \\alpha_i y_i \\vec{x_i} = 0\n",
    "$$\n",
    "\n",
    "from which, we can deduce that\n",
    "\n",
    "$$\n",
    "\\boxed{\\vec{w} = \\sum_i \\alpha_i y_i \\vec{x_i}} \\tag{6}\n",
    "$$\n",
    "\n",
    "which tells that the weights vector of the decision boundary is a linear weighted summation of the samples.\n",
    "\n",
    "$$\n",
    "\\frac{\\partial L}{\\partial b} = - \\sum_i \\alpha_i y_i = 0\n",
    "$$\n",
    "\n",
    "from which, we can deduce that\n",
    "\n",
    "$$\n",
    "\\boxed{\\sum_i \\alpha_i y_i = 0} \\tag{7}\n",
    "$$\n",
    "\n",
    "Substituting (6) and (7) in the lagrange function,\n",
    "\n",
    "$$\n",
    "L = \\frac{1}{2} \\left( \\sum_i \\left( \\alpha_i y_i \\vec{x_i} \\right) \\right) \\left( \\sum_j \\left( \\alpha_j y_j \\vec{x_j} \\right) \\right) - \\sum_i \\left( \\alpha_i y_i \\vec{x_i} \\right) \\left( \\sum_j \\left( \\alpha_j y_j \\vec{x_j} \\right) \\right) - \\cancel{\\sum_i \\left( \\alpha_i y_i \\right) b} + \\sum_i \\alpha_i\n",
    "$$\n",
    "\n",
    "which resolves to,\n",
    "\n",
    "$$\n",
    "\\boxed{\n",
    "L = \\sum_i \\alpha_i - \\frac{1}{2} \\sum_i \\sum_j \\alpha_i \\alpha_j y_i y_j (\\vec{x_i} \\cdot \\vec{x_j})\n",
    "} \\tag{8}\n",
    "$$\n",
    "\n",
    "which tells us that the optimization problem only depends on the dot product of the pairs of the samples (or some of them depending on the values of $\\alpha_i$). That function we want to find the $\\alpha_i$ that ***maximizes*** it. [Why?](https://cs.stackexchange.com/a/90914)\n",
    "\n",
    "Substituting (6) in (1),\n",
    "\n",
    "$$\\boxed{\n",
    "\\hat{y_j} = \n",
    "     \\begin{cases}\n",
    "       1 &\\quad \\sum_i \\alpha_i y_i \\vec{x_i} \\cdot \\vec{x_j} + b \\geq 0\\\\\n",
    "       0 &\\quad \\sum_i \\alpha_i y_i \\vec{x_i} \\cdot \\vec{x_j} + b< 0\\\\\n",
    "     \\end{cases}\n",
    "} \\tag{9}\n",
    "$$\n",
    "\n",
    "Again the prediction depends on only the dot product of the unknown sample with some of the known samples, the support vectors.\n",
    "\n",
    "After we solve (8) for $\\alpha_i$ with (7) as their linear constraint using any optimization software packages (e.g., `sklearn.minimize` which we will use later), we can compute $\\vec{w}$ and $b$ using the following:\n",
    "\n",
    "* $\\vec{w} = \\sum_i \\alpha_i y_i \\vec{x_i}$\n",
    "* For $\\vec{x_i}$ in the support vectors (i.e., $\\alpha_i \\neq 0$), we calculate its $b$ using $y_i \\left( \\vec{w} \\cdot \\vec{x_i} + b \\right) - 1 = 0$. Then take the average."
   ]
  },
  {
   "cell_type": "markdown",
   "metadata": {},
   "source": [
    "### Soft-Margin SVM\n",
    "\n",
    "What we described above is called hard-margin classifier which tries to find the **linear** decision boundary that separates the samples the best ***without any misclassification***. The examples we used above were linearly separable. So the hard margin classifier would work very well. However, for a data that isn't linearly separable, our algorithm won't work. Let's take for example the following figure,\n",
    "\n",
    "![](assets/images/non-linearly-separable.jpg)\n",
    "\n",
    "We would thought the the best linear boundary possible would still missclassify a couple of samples. However, the hard margin won't take into consideration any misclassications while fitting. Therefore, a soft-margin SVM is introduced to allow some misclassifcation as well as the existence of samples inside the region.\n",
    "\n",
    "![](assets/images/soft-margin.jpg)\n",
    "\n",
    "For that, we introduce another term in the constraint in the optimzation function,\n",
    "\n",
    "$$ y_i \\left( \\vec{w} \\cdot \\vec{x_i} + b \\right) - 1 + \\xi \\geq 0$$\n",
    "\n",
    "where $\\xi_i$, which quantifies the errors in the classification of training points, can have 3 states:\n",
    "\n",
    "* $\\xi_i = 0$, then $x_i$ is classified correctly.\n",
    "* $0 < \\xi_i < 1$, then $x_i$ is on the right side of the boundary but inside the margin (width).\n",
    "* $\\xi_i > 1$, then $x_i$ is on the wrong side of the boundary so it's misclassified.\n",
    "\n",
    "We can define $E_{\\text{soft}}$ as the soft error as follows,\n",
    "\n",
    "$$E_{\\text{soft}} = \\sum_i \\xi_i$$\n",
    "\n",
    "Now we can define the optimization problem as follows,\n",
    "\n",
    "$$\\text{MIN} \\frac{1}{2} ||\\vec{w}|| + C E_{\\text{soft}} \\quad \\text{s.t.} \\quad y_i \\left( \\vec{w} \\cdot \\vec{x_i} + b \\right) - 1 + \\xi \\geq 0 \\quad \\text{and} \\quad \\xi_i \\geq 0$$\n",
    "\n",
    "where $C$ is a hyperparameter that defines the strength of the regularization. A large C would require very low soft error to optimize and vice-versa. Applying the Lagrange multipliers stuff, we get the following final form of optimization function,\n",
    "\n",
    "$$ \\boxed{ L = \\sum_i \\alpha_i - \\frac{1}{2} \\sum_i \\sum_j \\alpha_i \\alpha_j y_i y_j (\\vec{x_i} \\cdot \\vec{x_j}) \\quad \\text{s.t.} \\quad 0 \\leq \\alpha_i \\leq C \\quad \\text{and} \\quad \\sum_i \\alpha_i y_i = 0 } \\tag{10}$$\n",
    "\n",
    "The value of $\\alpha_i$ determine the state of the training sample:\n",
    "\n",
    "* $\\alpha_i = 0$, the training sample is one the correct side of the boundary and not in the margin. The point plays no role in the model.\n",
    "* $0 < \\alpha_i < C$, the training sample is a support vector and lies on either of $y_i \\left( \\vec{w} \\cdot \\vec{x_i} + b \\right) - 1 = 0$ planes.\n",
    "* $\\alpha_i = C$, the training sample is either on the margin on the correct side of the boundary or outside the margin but in the wrong side."
   ]
  },
  {
   "cell_type": "markdown",
   "metadata": {},
   "source": [
    "### Implementation of the soft-margin SVM"
   ]
  },
  {
   "cell_type": "code",
   "execution_count": 2,
   "metadata": {},
   "outputs": [],
   "source": [
    "import numpy as np\n",
    "import matplotlib.pyplot as plt\n",
    "import seaborn as sns\n",
    "%matplotlib inline"
   ]
  },
  {
   "cell_type": "markdown",
   "metadata": {},
   "source": [
    "0 is a very specific value, and because we are going to use some numerical analysis for the optimization, we may reach a value for $\\alpha_i$ very very close to 0 but not 0. So, we are going to define `EPSILON` to a very small value to compare using it instead of the absolute 0."
   ]
  },
  {
   "cell_type": "code",
   "execution_count": 3,
   "metadata": {},
   "outputs": [],
   "source": [
    "EPSILON = 1e-7"
   ]
  },
  {
   "cell_type": "markdown",
   "metadata": {},
   "source": [
    "For optimization, we are going to use `scipy` package, specifically `scipy.optimize.minimize` which requires the following,\n",
    "\n",
    "```py\n",
    "optimal_alphas = minimize(\n",
    "    lagrange_duality_optimization_function,\n",
    "    initial_alphas,\n",
    "    args = (training_samples, training_labels),\n",
    "    method = \"trust-constr\", \n",
    "    # 'trust-constr' is a minimization method of a scalar function using exact trust-region-algorithm\n",
    "    hess = BFGS(),\n",
    "    # hess defines the method to calculate the hessian matrix (needed for some opt methods),\n",
    "    constraints = [linear_constraint],\n",
    "    # if exists, we define here the linear constraint of the alphas, which is for our SVM sum(alpha_i * y_i) = 0\n",
    "    bounds = alphas_bounds\n",
    "    # if exists, we define here the bounds of alpha which are for the SVM, 0 <= alpha_i <= C\n",
    ")\n",
    "```"
   ]
  },
  {
   "cell_type": "markdown",
   "metadata": {},
   "source": [
    "First, we create a function that calculates the Lagrange dual optimization function given $\\alpha_i$, x (training samples), and y (the training labels).\n",
    "\n",
    "$$L = \\sum_i \\alpha_i - \\frac{1}{2} \\sum_i \\sum_j \\alpha_i \\alpha_j y_i y_j (\\vec{x_i} \\cdot \\vec{x_j})$$\n",
    "\n",
    "As we noted above, we will convert the maximization to minimization, so the new function will be\n",
    "\n",
    "$$L_{\\text{min}} = \\frac{1}{2} \\sum_i \\sum_j \\alpha_i \\alpha_j y_i y_j (\\vec{x_i} \\cdot \\vec{x_j}) - \\sum_i \\alpha_i$$"
   ]
  },
  {
   "cell_type": "code",
   "execution_count": 4,
   "metadata": {},
   "outputs": [],
   "source": [
    "def lagrange_dual_function(alphas, x, y):\n",
    "    result = 0\n",
    "    for i in range(len(alphas)):\n",
    "        for j in range(len(alphas)):\n",
    "            result += (alphas[i] * alphas[j] * y[i] * y[j] * np.dot(x[i, :], x[j, :]))\n",
    "    result = 0.5 * result - sum(alphas)\n",
    "    return result"
   ]
  },
  {
   "cell_type": "markdown",
   "metadata": {},
   "source": [
    "As we know, our linear constraint for the $\\alpha_i$ is $\\sum_i \\alpha_i y_i = 0$. To define that in Python, we will use `scipy.optimize.LinearConstraint`. It requires to write the constraint in a two-sided matrix form which will be\n",
    "\n",
    "$$\n",
    "0 = \n",
    "\\begin{bmatrix}\n",
    "y_0 \\\\\n",
    "y_1 \\\\\n",
    "\\vdots \\\\\n",
    "y_{m-1}\n",
    "\\end{bmatrix}  \\begin{bmatrix}\n",
    "\\alpha_0 & \\alpha_1 & \\cdots & \\alpha_{m-1} \n",
    "\\end{bmatrix} = 0\n",
    "$$\n",
    "\n",
    "```py\n",
    "LinearConstraint(\n",
    "    labels_vector,\n",
    "    [LHS_value],\n",
    "    [RHS_value]\n",
    ")\n",
    "```"
   ]
  },
  {
   "cell_type": "code",
   "execution_count": 5,
   "metadata": {},
   "outputs": [],
   "source": [
    "from scipy.optimize import LinearConstraint\n",
    "\n",
    "def generate_linear_constraint(y):\n",
    "    return LinearConstraint(\n",
    "        y,\n",
    "        [0],\n",
    "        [0]\n",
    "    )"
   ]
  },
  {
   "cell_type": "markdown",
   "metadata": {},
   "source": [
    "To define the bounds of the $\\alpha_i$, we will use `scipy.optimize.Bounds` in which it takes a LHS vector of the values for each $\\alpha$ which will be 0 for each and RHS vector of the values for each $\\alpha_i$ which will be C for each."
   ]
  },
  {
   "cell_type": "code",
   "execution_count": 6,
   "metadata": {},
   "outputs": [],
   "source": [
    "from scipy.optimize import Bounds\n",
    "\n",
    "def generate_bounds(m, C):\n",
    "    return Bounds(np.zeros(m), np.ones(m) * C)"
   ]
  },
  {
   "cell_type": "markdown",
   "metadata": {},
   "source": [
    "Now, we write the whole pipeline to get the $\\alpha_i$."
   ]
  },
  {
   "cell_type": "code",
   "execution_count": 7,
   "metadata": {},
   "outputs": [],
   "source": [
    "from scipy.optimize import minimize\n",
    "from scipy.optimize import BFGS\n",
    "\n",
    "def optimize_alphas(x, y, C):\n",
    "    m, n = x.shape\n",
    "    initial_alphas = np.random.random(m) * C\n",
    "    linear_constraint = generate_linear_constraint(y)\n",
    "    bounds = generate_bounds(m, C)\n",
    "    result = minimize(\n",
    "        lagrange_dual_function,\n",
    "        initial_alphas,\n",
    "        args = (x, y),\n",
    "        method = \"trust-constr\",\n",
    "        hess = BFGS(),\n",
    "        constraints = [linear_constraint],\n",
    "        bounds = bounds\n",
    "    )\n",
    "    return result.x"
   ]
  },
  {
   "cell_type": "markdown",
   "metadata": {},
   "source": [
    "After we have the alphas, we can calculate $\\vec{w}$."
   ]
  },
  {
   "cell_type": "code",
   "execution_count": 63,
   "metadata": {},
   "outputs": [],
   "source": [
    "def calculate_w(alphas, x, y):\n",
    "    w = np.zeros(x.shape[1])\n",
    "    for i in range(len(alphas)):\n",
    "        w = w + alphas[i] * y[i] * x[i, :]\n",
    "    return w"
   ]
  },
  {
   "cell_type": "markdown",
   "metadata": {},
   "source": [
    "We calculate $b$ by finding the average of the $b\\text{s}$ of the support vectors' planes equation. For a support vector, its $b$ is calculated by\n",
    "\n",
    "$$\n",
    "b = y_i - (\\vec{w} \\cdot \\vec{x_{\\text{sv}}})\n",
    "$$"
   ]
  },
  {
   "cell_type": "code",
   "execution_count": 64,
   "metadata": {},
   "outputs": [],
   "source": [
    "def calculate_b(alphas, x, y, w, C):\n",
    "    support_vectors = np.where((alphas > EPSILON) & (alphas < C))[0]\n",
    "    b = 0\n",
    "    for sv in support_vectors:\n",
    "        b += (y[sv] - np.dot(w, x[sv, :]))\n",
    "    return b / len(support_vectors)"
   ]
  },
  {
   "cell_type": "markdown",
   "metadata": {},
   "source": [
    "The prediction function depends on the side of the test sample w.r.t. the boundary."
   ]
  },
  {
   "cell_type": "code",
   "execution_count": 26,
   "metadata": {},
   "outputs": [],
   "source": [
    "def classify(x_test, w, b):\n",
    "    raw_output = np.sum(x_test * w, axis = 1) + b\n",
    "    classes = np.sign(raw_output)\n",
    "    return classes\n",
    "\n",
    "def classification_error(labels, predictions):\n",
    "    return (sum(labels != predictions) / len(labels))"
   ]
  },
  {
   "cell_type": "markdown",
   "metadata": {},
   "source": [
    "Now, we are ready to apply our algorithm."
   ]
  },
  {
   "cell_type": "code",
   "execution_count": 86,
   "metadata": {},
   "outputs": [
    {
     "data": {
      "image/png": "[encoded data removed]",
      "text/plain": [
       "<Figure size 864x432 with 1 Axes>"
      ]
     },
     "metadata": {
      "needs_background": "light"
     },
     "output_type": "display_data"
    }
   ],
   "source": [
    "from sklearn.datasets import make_blobs\n",
    "from sklearn.model_selection import train_test_split\n",
    "\n",
    "data, labels = make_blobs(\n",
    "    n_samples=[20, 20],\n",
    "    cluster_std=1,\n",
    "    random_state=0)\n",
    "\n",
    "labels[labels == 0] = -1\n",
    "\n",
    "plt.figure(figsize=(12, 6))\n",
    "sns.scatterplot(\n",
    "    x = data[:, 0],\n",
    "    y = data[:, 1],\n",
    "    hue = labels,\n",
    "    palette = [\"red\", \"green\"]\n",
    ")\n",
    "\n",
    "X_train, X_test, y_train, y_test = train_test_split(data, labels, test_size = 0.2, stratify = labels)"
   ]
  },
  {
   "cell_type": "code",
   "execution_count": 66,
   "metadata": {},
   "outputs": [],
   "source": [
    "alphas = optimize_alphas(X_train, y_train, C = 100)"
   ]
  },
  {
   "cell_type": "code",
   "execution_count": 67,
   "metadata": {},
   "outputs": [],
   "source": [
    "w = calculate_w(alphas, X_train, y_train)"
   ]
  },
  {
   "cell_type": "code",
   "execution_count": 68,
   "metadata": {},
   "outputs": [],
   "source": [
    "b = calculate_b(alphas, X_train, y_train, w, 100)"
   ]
  },
  {
   "cell_type": "code",
   "execution_count": 81,
   "metadata": {},
   "outputs": [
    {
     "data": {
      "text/plain": [
       "[<matplotlib.lines.Line2D at 0x1c9d570aee0>]"
      ]
     },
     "execution_count": 81,
     "metadata": {},
     "output_type": "execute_result"
    },
    {
     "data": {
      "image/png": "[encoded data removed]",
      "text/plain": [
       "<Figure size 864x432 with 1 Axes>"
      ]
     },
     "metadata": {
      "needs_background": "light"
     },
     "output_type": "display_data"
    }
   ],
   "source": [
    "plt.figure(figsize=(12, 6))\n",
    "sns.scatterplot(\n",
    "    x = X_train[:, 0],\n",
    "    y = X_train[:, 1],\n",
    "    hue = y_train,\n",
    "    style = y_train,\n",
    "    s = 50,\n",
    "    palette = [\"red\", \"green\"]\n",
    ")\n",
    "\n",
    "sv = np.where(alphas > EPSILON)[0]\n",
    "for i in sv:\n",
    "    plt.text(X_train[i, 0], X_train[i, 1] - 0.25, \"alpha = {:.1f}\".format(alphas[i]))\n",
    "\n",
    "x_axis = plt.gca().get_xlim()\n",
    "y_axis = plt.gca().get_ylim()\n",
    "y_hyperplane = (1 / w[1]) * (-w[0] * np.array(x_axis) - b)\n",
    "plt.plot(x_axis, y_hyperplane)\n",
    "\n",
    "y_hyperplane_pos = (1 / w[1]) * (1 - w[0] * np.array(x_axis) - b)\n",
    "plt.plot(x_axis, y_hyperplane_pos, \"--\", color = \"green\")\n",
    "\n",
    "y_hyperplane_pos = (1 / w[1]) * (-1 - w[0] * np.array(x_axis) - b)\n",
    "plt.plot(x_axis, y_hyperplane_pos, \"--\", color = \"red\")"
   ]
  },
  {
   "cell_type": "code",
   "execution_count": 84,
   "metadata": {},
   "outputs": [
    {
     "data": {
      "text/plain": [
       "[<matplotlib.lines.Line2D at 0x1c9d57de130>]"
      ]
     },
     "execution_count": 84,
     "metadata": {},
     "output_type": "execute_result"
    },
    {
     "data": {
      "image/png": "[encoded data removed]",
      "text/plain": [
       "<Figure size 864x432 with 1 Axes>"
      ]
     },
     "metadata": {
      "needs_background": "light"
     },
     "output_type": "display_data"
    }
   ],
   "source": [
    "plt.figure(figsize=(12, 6))\n",
    "sns.scatterplot(\n",
    "    x = X_test[:, 0],\n",
    "    y = X_test[:, 1],\n",
    "    hue = classify(X_test, w, b),\n",
    "    style = y_test,\n",
    "    s = 50,\n",
    "    palette = [\"red\", \"green\"]\n",
    ")\n",
    "\n",
    "y_hyperplane = (1 / w[1]) * (-w[0] * np.array(x_axis) - b)\n",
    "plt.plot(x_axis, y_hyperplane)\n",
    "\n",
    "y_hyperplane_pos = (1 / w[1]) * (1 - w[0] * np.array(x_axis) - b)\n",
    "plt.plot(x_axis, y_hyperplane_pos, \"--\", color = \"green\")\n",
    "\n",
    "y_hyperplane_pos = (1 / w[1]) * (-1 - w[0] * np.array(x_axis) - b)\n",
    "plt.plot(x_axis, y_hyperplane_pos, \"--\", color = \"red\")"
   ]
  },
  {
   "cell_type": "markdown",
   "metadata": {},
   "source": [
    "We discussed the usage of SVM to build linear decision boundaries. However, we can use it also for non-linear decision boundaries using ***kernel tricks***. Check it from the second half of [[2]](https://www.youtube.com/watch?v=lDwow4aOrtg)."
   ]
  },
  {
   "cell_type": "markdown",
   "metadata": {},
   "source": [
    "References:\n",
    "\n",
    "1. [MIT SVM Lecture](https://www.youtube.com/watch?v=_PwhiWxHK8o)\n",
    "2. [Stanford SVM Lecture](https://www.youtube.com/watch?v=lDwow4aOrtg)\n",
    "3. [Method of Lagrange Multipliers: The Theory Behind Support Vector Machines](https://machinelearningmastery.com/method-of-lagrange-multipliers-the-theory-behind-support-vector-machines-part-3-implementing-an-svm-from-scratch-in-python/)"
   ]
  }
 ],
 "metadata": {
  "language_info": {
   "name": "python"
  },
  "orig_nbformat": 4
 },
 "nbformat": 4,
 "nbformat_minor": 2
}
