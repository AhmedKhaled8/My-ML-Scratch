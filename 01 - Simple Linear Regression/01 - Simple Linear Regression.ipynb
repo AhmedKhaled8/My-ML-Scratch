{
 "cells": [
  {
   "cell_type": "markdown",
   "metadata": {},
   "source": [
    "# Simple Linear Regression\n",
    "\n",
    "---"
   ]
  },
  {
   "cell_type": "markdown",
   "metadata": {},
   "source": [
    "### 1. Maths"
   ]
  },
  {
   "cell_type": "markdown",
   "metadata": {},
   "source": [
    "This notebook discusses the implementation of the simple linear regressor in which we have one feature (input) vs one target (output).\n",
    "\n",
    "$$y = b_0 + b_1 * x \\tag{1}$$\n",
    "\n",
    "The coefficients $b_0$ and $b_1$ are to be computed from our linear regression model using some statistical properties like mean, variance and covariance.\n",
    "\n",
    "$$b_1 = \\frac{\\sum_{i=1}^{n} (x_i - \\mu_x) * (y_i * \\mu_y)}{\\sum_{i=1}^{n} (x_i - \\mu_x)^2} = \\frac{covariance(x, y)}{variance(x)}\\tag{2}$$\n",
    "\n",
    "$$b_0 = \\mu_y - b_1 * \\mu_x \\tag{3}$$"
   ]
  },
  {
   "cell_type": "code",
   "execution_count": 1,
   "metadata": {},
   "outputs": [],
   "source": [
    "import numpy as np\n",
    "import pandas as pd"
   ]
  },
  {
   "cell_type": "markdown",
   "metadata": {},
   "source": [
    "### 2. Mean"
   ]
  },
  {
   "cell_type": "markdown",
   "metadata": {},
   "source": [
    "We will use `np.mean` to calculate the mean of the feature `x`."
   ]
  },
  {
   "cell_type": "code",
   "execution_count": 2,
   "metadata": {},
   "outputs": [],
   "source": [
    "def mean(x):\n",
    "    return np.mean(x, axis = 0)"
   ]
  },
  {
   "cell_type": "markdown",
   "metadata": {},
   "source": [
    "`axis = 0` means we will take the mean of each column in `x`. If we set `axis` to `1`, it will calculate the mean for each row. In structured data, we prefer to have the rows indicate examples and columns indicate the features.\n",
    "\n",
    "> Note: not setting `axis`, its default is `None` will calculate the mean of all the data in `x` which is the same as `axis = 1` for the case that `x` is of the shape of `(-1, 1)`."
   ]
  },
  {
   "cell_type": "markdown",
   "metadata": {},
   "source": [
    "### 3. Variance"
   ]
  },
  {
   "cell_type": "markdown",
   "metadata": {},
   "source": [
    "The variance of some data is the summation of the squared differences of each element in the data from the mean of the data.\n",
    "\n",
    "$$variance(X) = \\sigma_X^2 = \\sum_{i=1}^{n_X}(x_i - \\mu_X)^2$$"
   ]
  },
  {
   "cell_type": "markdown",
   "metadata": {},
   "source": [
    "* For summation, we will use `np.sum` which will returns the sum of an array along `axis`, which we will sit again to `0` as we want to calculate the variance of the feature.\n",
    "\n",
    "* For power, we will use `np.power(x, 2)` which will raise `x` to the power of `2`.\n",
    "\n",
    "* Subtracting `x`, which in this notebook is an array of shape `(-1, 1)`, from a single value `mean(x)` will be done element-wise due to [broadcasting](https://numpy.org/doc/stable/user/basics.broadcasting.html). "
   ]
  },
  {
   "cell_type": "code",
   "execution_count": 3,
   "metadata": {},
   "outputs": [],
   "source": [
    "def variance(x):\n",
    "    x_mean = mean(x)\n",
    "    x_var = np.sum(np.power(x - x_mean, 2), axis = 0)\n",
    "    return x_var"
   ]
  },
  {
   "cell_type": "code",
   "execution_count": 4,
   "metadata": {},
   "outputs": [
    {
     "name": "stdout",
     "output_type": "stream",
     "text": [
      "[3.] [2.8] [10.] [8.8]\n"
     ]
    }
   ],
   "source": [
    "X = np.array([1, 2, 4, 3, 5]).reshape(-1, 1)\n",
    "y = np.array([1, 3, 3, 2, 5]).reshape(-1, 1)\n",
    "\n",
    "mean_x, mean_y = mean(X), mean(y)  # expected: 3.0, 2.8\n",
    "var_x, var_y = variance(X), variance(y) # expected: 10.0, 8.8\n",
    "print(mean_x, mean_y, var_x, var_y)"
   ]
  },
  {
   "cell_type": "markdown",
   "metadata": {},
   "source": [
    "### 4. Covariance"
   ]
  },
  {
   "cell_type": "markdown",
   "metadata": {},
   "source": [
    "The covariance between 2 sets of data (same size) is the summation of the multiplication of the differences betweem each point of the data and the mean of the point's data set.\n",
    "\n",
    "$$covariance(X, Y) = \\sum_{i=1}^{n_X=n_y} (x_i - \\mu_X)(y_i - \\mu_Y)$$"
   ]
  },
  {
   "cell_type": "markdown",
   "metadata": {},
   "source": [
    "The multiplication of $(x-\\bar x)$, which is an array of shape (-1, 1), and $(y-\\bar y)$, which is an array of the same shape is **element-wise**. We can do element-wise multiplication between 2 arrays `x` and `y`, must be of the same size, by either using `x * y` or `np.multiply(x, y)`. Here, We use the latter."
   ]
  },
  {
   "cell_type": "code",
   "execution_count": 5,
   "metadata": {},
   "outputs": [],
   "source": [
    "def covariance(x, y):\n",
    "    mean_x = mean(x)\n",
    "    mean_y = mean(y)\n",
    "    covariance = np.sum(np.multiply(x - mean_x, y - mean_y))\n",
    "    return covariance"
   ]
  },
  {
   "cell_type": "markdown",
   "metadata": {},
   "source": [
    "### 5. Coefficients Calculation"
   ]
  },
  {
   "cell_type": "markdown",
   "metadata": {},
   "source": [
    "We will the equations **(2) and (3)** and the functions we implemented to calculate the coefficients $b_0$ and $b_1$."
   ]
  },
  {
   "cell_type": "code",
   "execution_count": 6,
   "metadata": {},
   "outputs": [],
   "source": [
    "def estimate_coef(x, y):\n",
    "    b1 = covariance(x, y) / variance(x)\n",
    "    b0 = mean(y) - b1 * mean(x)\n",
    "    return b0, b1"
   ]
  },
  {
   "cell_type": "code",
   "execution_count": 7,
   "metadata": {},
   "outputs": [
    {
     "data": {
      "text/plain": [
       "(array([0.4]), array([0.8]))"
      ]
     },
     "execution_count": 7,
     "metadata": {},
     "output_type": "execute_result"
    }
   ],
   "source": [
    "b0, b1 = estimate_coef(X, y)\n",
    "b0, b1 # should be 0.4, 0.8"
   ]
  },
  {
   "cell_type": "markdown",
   "metadata": {},
   "source": [
    "When running the above cell, that is based on `X` and `y` which we defined earlier to calculate the mean and variance of each, the coefficients `b0` and `b1` will be used to predict any future input using the equation **(1)**.\n",
    "\n",
    "$$y = 0.4 + 0.8 x$$"
   ]
  },
  {
   "cell_type": "markdown",
   "metadata": {},
   "source": [
    "### 6. RMSE and R $^2$"
   ]
  },
  {
   "cell_type": "markdown",
   "metadata": {},
   "source": [
    "The RMSE, root mean square error between the predicted values and the actual values, is one of the most common metrics to be used to check the performance of the model, the less the better and it's dependent on the data. On the other hand, the R-squared (R $^2$) measure the correlation between the predicted values and the actual values. The closer to 1 (range [-1, 1]), the better.\n",
    "\n",
    "$$RMSE = \\sqrt{\\frac{\\sum_{i=1}^{n_Y}(\\hat y_i - y_i)^2}{n_Y}}$$\n",
    "\n",
    "where $n_X$ is the count (size) of the data $Y$, $\\hat y_i$ is the predicted value at index $i$."
   ]
  },
  {
   "cell_type": "markdown",
   "metadata": {},
   "source": [
    "$$R^2 = 1 - \\frac{SS_{res}}{SS_{tot}}$$\n",
    "\n",
    "where $SS_{res}$ is the sum of the squared differences between each true value and its corresponding predicted value. While $SS_{tot}$ is the sum of the squared differences between each true value and the mean of the set.\n",
    "\n",
    "The R $^2$ range is [-1, 1] where 1 is the best, while 0 indicates that our regression model predicts exactly the same as the baseline model (which is to take the mean of the true values), and -1 indicates that our regression model predicts worse than the baseline model. Usually, a model with $R^2 \\geq 0.7$ is acceptable."
   ]
  },
  {
   "cell_type": "code",
   "execution_count": 8,
   "metadata": {},
   "outputs": [],
   "source": [
    "def calculate_rmse(true, predicted):\n",
    "    error = np.sqrt(np.sum(np.power(true - predicted, 2), axis = 0) / len(true))\n",
    "    return error"
   ]
  },
  {
   "cell_type": "code",
   "execution_count": 9,
   "metadata": {},
   "outputs": [],
   "source": [
    "def calculate_r2(true, predicted):\n",
    "    ss_res = np.sum(np.power(true - predicted, 2), axis = 0)\n",
    "    ss_tot = np.sum(np.power(true - mean(true), 2), axis = 0)\n",
    "    return 1 - (ss_res / ss_tot)"
   ]
  },
  {
   "cell_type": "markdown",
   "metadata": {},
   "source": [
    "I am not the best teacher :( . So if you want to check other metrics used in regression, check these links:\n",
    "\n",
    "* [basic regression metrics](https://towardsdatascience.com/metrics-to-understand-regression-models-in-plain-english-part-1-c902b2f4156f)\n",
    "* [advanced regression metrics](https://towardsdatascience.com/metrics-to-understand-regression-models-in-plain-english-part-2-12d362dd39d9)"
   ]
  },
  {
   "cell_type": "markdown",
   "metadata": {},
   "source": [
    "### 7. Testing"
   ]
  },
  {
   "cell_type": "markdown",
   "metadata": {},
   "source": [
    "The above functions are implemented in `SimpleLinearRegression.py` as methods of `SimpleLinearRegression` class with the methods `fit`, `predict`, and `score` used for calculating the regression coefficients, the predicted values given input of single feature, and the score (metric) between the true and predicted values respectively."
   ]
  },
  {
   "cell_type": "markdown",
   "metadata": {},
   "source": [
    "We will use a real-life dataset of the swedish auto insurance dataset. It involves the prediction of the total claim payments. [More details](https://www.kaggle.com/sunmarkil/auto-insurance-in-sweden-small-dataset)"
   ]
  },
  {
   "cell_type": "code",
   "execution_count": 11,
   "metadata": {},
   "outputs": [
    {
     "data": {
      "text/html": [
       "<div>\n",
       "<style scoped>\n",
       "    .dataframe tbody tr th:only-of-type {\n",
       "        vertical-align: middle;\n",
       "    }\n",
       "\n",
       "    .dataframe tbody tr th {\n",
       "        vertical-align: top;\n",
       "    }\n",
       "\n",
       "    .dataframe thead th {\n",
       "        text-align: right;\n",
       "    }\n",
       "</style>\n",
       "<table border=\"1\" class=\"dataframe\">\n",
       "  <thead>\n",
       "    <tr style=\"text-align: right;\">\n",
       "      <th></th>\n",
       "      <th>0</th>\n",
       "      <th>1</th>\n",
       "    </tr>\n",
       "  </thead>\n",
       "  <tbody>\n",
       "    <tr>\n",
       "      <th>0</th>\n",
       "      <td>108</td>\n",
       "      <td>392.5</td>\n",
       "    </tr>\n",
       "    <tr>\n",
       "      <th>1</th>\n",
       "      <td>19</td>\n",
       "      <td>46.2</td>\n",
       "    </tr>\n",
       "    <tr>\n",
       "      <th>2</th>\n",
       "      <td>13</td>\n",
       "      <td>15.7</td>\n",
       "    </tr>\n",
       "    <tr>\n",
       "      <th>3</th>\n",
       "      <td>124</td>\n",
       "      <td>422.2</td>\n",
       "    </tr>\n",
       "    <tr>\n",
       "      <th>4</th>\n",
       "      <td>40</td>\n",
       "      <td>119.4</td>\n",
       "    </tr>\n",
       "  </tbody>\n",
       "</table>\n",
       "</div>"
      ],
      "text/plain": [
       "     0      1\n",
       "0  108  392.5\n",
       "1   19   46.2\n",
       "2   13   15.7\n",
       "3  124  422.2\n",
       "4   40  119.4"
      ]
     },
     "execution_count": 11,
     "metadata": {},
     "output_type": "execute_result"
    }
   ],
   "source": [
    "data = pd.read_csv(\"assets/dataset.csv\", header=None)\n",
    "data.head()"
   ]
  },
  {
   "cell_type": "code",
   "execution_count": 12,
   "metadata": {},
   "outputs": [
    {
     "data": {
      "text/plain": [
       "(63, 1)"
      ]
     },
     "execution_count": 12,
     "metadata": {},
     "output_type": "execute_result"
    }
   ],
   "source": [
    "X = data.iloc[:, :1].values\n",
    "X.shape"
   ]
  },
  {
   "cell_type": "code",
   "execution_count": 13,
   "metadata": {},
   "outputs": [
    {
     "data": {
      "text/plain": [
       "(63, 1)"
      ]
     },
     "execution_count": 13,
     "metadata": {},
     "output_type": "execute_result"
    }
   ],
   "source": [
    "y = data.iloc[:, -1].values.reshape(-1, 1)\n",
    "y.shape"
   ]
  },
  {
   "cell_type": "code",
   "execution_count": 14,
   "metadata": {},
   "outputs": [],
   "source": [
    "from sklearn.model_selection import train_test_split\n",
    "\n",
    "X_train, X_test, y_train, y_test = train_test_split(X, y, test_size = 0.4)"
   ]
  },
  {
   "cell_type": "code",
   "execution_count": 15,
   "metadata": {},
   "outputs": [
    {
     "data": {
      "text/plain": [
       "(array([27.47430002]), array([3.38052556]))"
      ]
     },
     "execution_count": 15,
     "metadata": {},
     "output_type": "execute_result"
    }
   ],
   "source": [
    "from SimpleLinearRegression import SimpleLinearRegression\n",
    "swedish_model = SimpleLinearRegression()\n",
    "swedish_model.fit(X_train, y_train)"
   ]
  },
  {
   "cell_type": "code",
   "execution_count": 16,
   "metadata": {},
   "outputs": [],
   "source": [
    "prediction = swedish_model.predict(X_test)"
   ]
  },
  {
   "cell_type": "code",
   "execution_count": 34,
   "metadata": {},
   "outputs": [
    {
     "name": "stderr",
     "output_type": "stream",
     "text": [
      "C:\\Users\\U\\AppData\\Local\\Temp/ipykernel_33668/3501805808.py:8: UserWarning: You have mixed positional and keyword arguments, some input may be discarded.\n",
      "  ax.legend([true_plot, predictions_plot], labels = [\"True Values\", \"Predicted Values\"], loc = \"best\")\n"
     ]
    },
    {
     "data": {
      "image/png": "[encoded data removed]",
      "text/plain": [
       "<Figure size 1440x720 with 1 Axes>"
      ]
     },
     "metadata": {
      "needs_background": "light"
     },
     "output_type": "display_data"
    }
   ],
   "source": [
    "import matplotlib.pyplot as plt\n",
    "\n",
    "fig, ax = plt.subplots(1, 1, figsize = (20, 10))\n",
    "true_plot = ax.scatter(X_test, y_test)\n",
    "predictions_plot = ax.plot(X_test, prediction, c = 'r')\n",
    "ax.set_xlabel('Number of Claims')\n",
    "ax.set_ylabel('Total Payments (1000 Swedish Konor)');\n",
    "ax.legend([true_plot, predictions_plot], labels = [\"True Values\", \"Predicted Values\"], loc = \"best\")\n",
    "ax.set_title('Number of Claims vs Total Payments')\n",
    "ax.set_xlim(0)\n",
    "ax.axhline(swedish_model.b0, linestyle = 'dashed', color = 'y')\n",
    "ax.set_ylim(0);"
   ]
  },
  {
   "cell_type": "code",
   "execution_count": 29,
   "metadata": {},
   "outputs": [
    {
     "name": "stdout",
     "output_type": "stream",
     "text": [
      "R2: [0.80760152], RMSE: [37.0016741]\n"
     ]
    }
   ],
   "source": [
    "r2 = swedish_model.score(y_test, prediction, \"r2\")\n",
    "rmse = swedish_model.score(y_test, prediction, \"rmse\")\n",
    "print(f\"R2: {r2}, RMSE: {rmse}\")"
   ]
  }
 ],
 "metadata": {
  "interpreter": {
   "hash": "fa5216fee35f452e5fdd4427fb34069b0db31c3292a7466921a974e4c2813772"
  },
  "kernelspec": {
   "display_name": "Python 3.9.6 64-bit",
   "language": "python",
   "name": "python3"
  },
  "language_info": {
   "codemirror_mode": {
    "name": "ipython",
    "version": 3
   },
   "file_extension": ".py",
   "mimetype": "text/x-python",
   "name": "python",
   "nbconvert_exporter": "python",
   "pygments_lexer": "ipython3",
   "version": "3.9.6"
  },
  "orig_nbformat": 4
 },
 "nbformat": 4,
 "nbformat_minor": 2
}
